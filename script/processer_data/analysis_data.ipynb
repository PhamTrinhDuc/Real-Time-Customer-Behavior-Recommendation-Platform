{
 "cells": [
  {
   "cell_type": "code",
   "execution_count": null,
   "id": "6140e56c",
   "metadata": {},
   "outputs": [],
   "source": [
    "import os\n",
    "from dotenv import load_dotenv\n",
    "load_dotenv()\n",
    "import sys\n",
    "import psycopg2\n",
    "import pandas as pd\n",
    "\n",
    "sys.path.append(os.path.abspath(os.path.join(os.path.dirname(__file__), \"..\")))\n",
    "DB_CONFIG = {\n",
    "  'host': 'localhost',\n",
    "  'port': os.getenv('POSTGRES_PORT'),\n",
    "  'database': os.getenv('POSTGRES_DB'),\n",
    "  'user': os.getenv('POSTGRES_USER'),\n",
    "  'password': os.getenv('POSTGRES_PASSWORD')\n",
    "}\n",
    "\n",
    "from deltalake import DeltaTable\n",
    "\n",
    "delta_table_fp = \"./script/spark/delta_data/orders\"\n",
    "dt2 = DeltaTable(delta_table_fp)\n",
    "print(dt2.to_pandas().info())\n",
    "\n",
    "\n",
    "conn = psycopg2.connect(**DB_CONFIG)\n",
    "df = pd.read_sql(\"SELECT * FROM orders\", conn)\n",
    "print(df.info())"
   ]
  },
  {
   "cell_type": "code",
   "execution_count": 4,
   "id": "b38faab4",
   "metadata": {},
   "outputs": [
    {
     "name": "stdout",
     "output_type": "stream",
     "text": [
      "<class 'pandas.core.frame.DataFrame'>\n",
      "RangeIndex: 4 entries, 0 to 3\n",
      "Data columns (total 3 columns):\n",
      " #   Column  Non-Null Count  Dtype  \n",
      "---  ------  --------------  -----  \n",
      " 0   id      4 non-null      int64  \n",
      " 1   name    4 non-null      object \n",
      " 2   age     2 non-null      float64\n",
      "dtypes: float64(1), int64(1), object(1)\n",
      "memory usage: 224.0+ bytes\n"
     ]
    }
   ],
   "source": [
    "import pandas as pd \n",
    "\n",
    "data = {\n",
    "  \"id\": [1, 2, 3],\n",
    "  \"name\": [\"Alice\", \"Bob\", \"Charlie\"],\n",
    "  \"age\": [25, 30, None]\n",
    "}\n",
    "\n",
    "df = pd.DataFrame(data)\n",
    "\n",
    "examle = {\"id\": 4, \"name\": \"David\", \"age\": None}\n",
    "df = df.append(examle, ignore_index=True)\n",
    "df.info()"
   ]
  },
  {
   "cell_type": "code",
   "execution_count": null,
   "id": "a6d7ee45",
   "metadata": {},
   "outputs": [],
   "source": []
  }
 ],
 "metadata": {
  "kernelspec": {
   "display_name": "project-de",
   "language": "python",
   "name": "python3"
  },
  "language_info": {
   "codemirror_mode": {
    "name": "ipython",
    "version": 3
   },
   "file_extension": ".py",
   "mimetype": "text/x-python",
   "name": "python",
   "nbconvert_exporter": "python",
   "pygments_lexer": "ipython3",
   "version": "3.9.23"
  }
 },
 "nbformat": 4,
 "nbformat_minor": 5
}
